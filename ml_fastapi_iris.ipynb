{
  "nbformat": 4,
  "nbformat_minor": 0,
  "metadata": {
    "colab": {
      "provenance": []
    },
    "kernelspec": {
      "name": "python3",
      "display_name": "Python 3"
    },
    "language_info": {
      "name": "python"
    }
  },
  "cells": [
    {
      "cell_type": "markdown",
      "source": [
        "# Install dependencies"
      ],
      "metadata": {
        "id": "r1Dncie98a7l"
      }
    },
    {
      "cell_type": "code",
      "execution_count": 10,
      "metadata": {
        "id": "hf2RdqnT6rTm"
      },
      "outputs": [],
      "source": [
        "!pip -q install fastapi uvicorn scikit-learn joblib nest_asyncio pyngrok pandas\n",
        "\n"
      ]
    },
    {
      "cell_type": "markdown",
      "source": [
        "# Imports & dataset load"
      ],
      "metadata": {
        "id": "atjnlGaA8sP0"
      }
    },
    {
      "cell_type": "code",
      "source": [
        "import pandas as pd\n",
        "import numpy as np\n",
        "\n",
        "# Load your uploaded dataset\n",
        "df = pd.read_csv(\"/content/Iris.csv\")   # since you uploaded Iris.csv\n",
        "\n",
        "print(\"Shape:\", df.shape)\n",
        "print(df.head())\n",
        "\n"
      ],
      "metadata": {
        "colab": {
          "base_uri": "https://localhost:8080/"
        },
        "id": "x2RMCLWf8lpe",
        "outputId": "361dfa13-a5d1-4781-ca90-58fa5992ae47"
      },
      "execution_count": 13,
      "outputs": [
        {
          "output_type": "stream",
          "name": "stdout",
          "text": [
            "Shape: (150, 6)\n",
            "   Id  SepalLengthCm  SepalWidthCm  PetalLengthCm  PetalWidthCm      Species\n",
            "0   1            5.1           3.5            1.4           0.2  Iris-setosa\n",
            "1   2            4.9           3.0            1.4           0.2  Iris-setosa\n",
            "2   3            4.7           3.2            1.3           0.2  Iris-setosa\n",
            "3   4            4.6           3.1            1.5           0.2  Iris-setosa\n",
            "4   5            5.0           3.6            1.4           0.2  Iris-setosa\n"
          ]
        }
      ]
    },
    {
      "cell_type": "markdown",
      "source": [
        "# Prepare features & target\n"
      ],
      "metadata": {
        "id": "fJo2sw6v871-"
      }
    },
    {
      "cell_type": "code",
      "source": [
        "# Columns: Id, SepalLengthCm, SepalWidthCm, PetalLengthCm, PetalWidthCm, Species\n",
        "df = df.drop(columns=[\"Id\"])\n",
        "\n",
        "X = df.drop(columns=[\"Species\"])\n",
        "y = df[\"Species\"]\n",
        "\n",
        "print(\"Features:\", X.columns.tolist())\n",
        "print(\"Target classes:\", y.unique())\n",
        "\n"
      ],
      "metadata": {
        "colab": {
          "base_uri": "https://localhost:8080/"
        },
        "id": "yM9BPXF49Bkl",
        "outputId": "23e18cf7-850e-46c5-fc18-2a8c48d14d74"
      },
      "execution_count": 14,
      "outputs": [
        {
          "output_type": "stream",
          "name": "stdout",
          "text": [
            "Features: ['SepalLengthCm', 'SepalWidthCm', 'PetalLengthCm', 'PetalWidthCm']\n",
            "Target classes: ['Iris-setosa' 'Iris-versicolor' 'Iris-virginica']\n"
          ]
        }
      ]
    },
    {
      "cell_type": "markdown",
      "source": [
        "# Train/test split"
      ],
      "metadata": {
        "id": "ZRkRYCxo9FeW"
      }
    },
    {
      "cell_type": "code",
      "source": [
        "from sklearn.model_selection import train_test_split\n",
        "\n",
        "X_train, X_test, y_train, y_test = train_test_split(\n",
        "    X, y, test_size=0.2, stratify=y, random_state=42\n",
        ")\n"
      ],
      "metadata": {
        "id": "oQZHcua19Lj5"
      },
      "execution_count": 18,
      "outputs": []
    },
    {
      "cell_type": "markdown",
      "source": [
        "# Build pipeline & train"
      ],
      "metadata": {
        "id": "zy8Z6Nt49Zai"
      }
    },
    {
      "cell_type": "code",
      "source": [
        "from sklearn.preprocessing import StandardScaler\n",
        "from sklearn.linear_model import LogisticRegression\n",
        "from sklearn.pipeline import Pipeline\n",
        "\n",
        "pipe = Pipeline([\n",
        "    (\"scaler\", StandardScaler()),\n",
        "    (\"clf\", LogisticRegression(max_iter=200))\n",
        "])\n",
        "\n",
        "pipe.fit(X_train, y_train)\n",
        "print(\"✅ Model trained\")\n",
        "\n"
      ],
      "metadata": {
        "colab": {
          "base_uri": "https://localhost:8080/"
        },
        "id": "Ni2SUyNr9doF",
        "outputId": "042e5598-a2aa-4082-b031-1cace862c87e"
      },
      "execution_count": 19,
      "outputs": [
        {
          "output_type": "stream",
          "name": "stdout",
          "text": [
            "✅ Model trained\n"
          ]
        }
      ]
    },
    {
      "cell_type": "markdown",
      "source": [
        "# Evaluate model"
      ],
      "metadata": {
        "id": "I00QxuYpCxUP"
      }
    },
    {
      "cell_type": "code",
      "source": [
        "from sklearn.metrics import accuracy_score, classification_report, confusion_matrix\n",
        "\n",
        "y_pred = pipe.predict(X_test)\n",
        "acc = accuracy_score(y_test, y_pred)\n",
        "print(f\"Accuracy: {acc:.4f}\")\n",
        "print(\"\\nClassification Report:\\n\", classification_report(y_test, y_pred))\n",
        "print(\"\\nConfusion Matrix:\\n\", confusion_matrix(y_test, y_pred))\n"
      ],
      "metadata": {
        "colab": {
          "base_uri": "https://localhost:8080/"
        },
        "id": "uK631YANC1md",
        "outputId": "c6cd4340-2786-47b1-8227-114a76cd9c35"
      },
      "execution_count": 20,
      "outputs": [
        {
          "output_type": "stream",
          "name": "stdout",
          "text": [
            "Accuracy: 0.9333\n",
            "\n",
            "Classification Report:\n",
            "                  precision    recall  f1-score   support\n",
            "\n",
            "    Iris-setosa       1.00      1.00      1.00        10\n",
            "Iris-versicolor       0.90      0.90      0.90        10\n",
            " Iris-virginica       0.90      0.90      0.90        10\n",
            "\n",
            "       accuracy                           0.93        30\n",
            "      macro avg       0.93      0.93      0.93        30\n",
            "   weighted avg       0.93      0.93      0.93        30\n",
            "\n",
            "\n",
            "Confusion Matrix:\n",
            " [[10  0  0]\n",
            " [ 0  9  1]\n",
            " [ 0  1  9]]\n"
          ]
        }
      ]
    },
    {
      "cell_type": "markdown",
      "source": [
        "# Save model & metadata"
      ],
      "metadata": {
        "id": "7OSpt8rdC4ce"
      }
    },
    {
      "cell_type": "code",
      "source": [
        "import joblib, json\n",
        "\n",
        "joblib.dump(pipe, \"model.pkl\")\n",
        "\n",
        "metadata = {\n",
        "    \"model_type\": \"Logistic Regression + StandardScaler\",\n",
        "    \"problem_type\": \"classification\",\n",
        "    \"features\": X.columns.tolist(),\n",
        "    \"classes\": sorted(y.unique().tolist()),\n",
        "    \"test_accuracy\": float(acc)\n",
        "}\n",
        "with open(\"model_metadata.json\", \"w\") as f:\n",
        "    json.dump(metadata, f, indent=2)\n",
        "\n",
        "print(\"✅ Saved model.pkl and model_metadata.json\")\n"
      ],
      "metadata": {
        "colab": {
          "base_uri": "https://localhost:8080/"
        },
        "id": "74Fsf_dFC7q9",
        "outputId": "126dd76f-2fd3-4a4d-ebaf-2df3bd0b081d"
      },
      "execution_count": 21,
      "outputs": [
        {
          "output_type": "stream",
          "name": "stdout",
          "text": [
            "✅ Saved model.pkl and model_metadata.json\n"
          ]
        }
      ]
    },
    {
      "cell_type": "markdown",
      "source": [
        "# Quick test prediction"
      ],
      "metadata": {
        "id": "SEfn9S9QC-d2"
      }
    },
    {
      "cell_type": "code",
      "source": [
        "sample = X_test.iloc[0].values.reshape(1, -1)\n",
        "sample_df = pd.DataFrame(sample, columns=X_test.columns) # Convert to DataFrame with column names\n",
        "pred = pipe.predict(sample_df)[0]\n",
        "proba = pipe.predict_proba(sample_df).max()\n",
        "\n",
        "print(\"Sample features:\", dict(zip(X.columns, X_test.iloc[0])))\n",
        "print(\"Prediction:\", pred, \"| Confidence:\", round(proba, 3))"
      ],
      "metadata": {
        "colab": {
          "base_uri": "https://localhost:8080/"
        },
        "id": "m5TKel1xC96c",
        "outputId": "9dc67e94-acc1-4e67-94e9-c6b975654402"
      },
      "execution_count": 23,
      "outputs": [
        {
          "output_type": "stream",
          "name": "stdout",
          "text": [
            "Sample features: {'SepalLengthCm': 4.4, 'SepalWidthCm': 3.0, 'PetalLengthCm': 1.3, 'PetalWidthCm': 0.2}\n",
            "Prediction: Iris-setosa | Confidence: 0.979\n"
          ]
        }
      ]
    },
    {
      "cell_type": "markdown",
      "source": [
        "# FastAPI app"
      ],
      "metadata": {
        "id": "iEX9Lp2YDi6C"
      }
    },
    {
      "cell_type": "code",
      "source": [
        "from fastapi import FastAPI, HTTPException\n",
        "from pydantic import BaseModel\n",
        "\n",
        "# Load model & metadata\n",
        "model = joblib.load(\"model.pkl\")\n",
        "with open(\"model_metadata.json\", \"r\") as f:\n",
        "    MODEL_META = json.load(f)\n",
        "\n",
        "app = FastAPI(title=\"Iris Classifier API (CSV version)\")\n",
        "\n",
        "class IrisInput(BaseModel):\n",
        "    SepalLengthCm: float\n",
        "    SepalWidthCm: float\n",
        "    PetalLengthCm: float\n",
        "    PetalWidthCm: float\n",
        "\n",
        "class PredictionOutput(BaseModel):\n",
        "    prediction: str\n",
        "    confidence: float\n",
        "\n",
        "@app.get(\"/\")\n",
        "def health_check():\n",
        "    return {\"status\": \"healthy\", \"message\": \"Iris Classifier API is running\"}\n",
        "\n",
        "@app.get(\"/model-info\")\n",
        "def model_info():\n",
        "    return MODEL_META\n",
        "\n",
        "@app.post(\"/predict\", response_model=PredictionOutput)\n",
        "def predict(inp: IrisInput):\n",
        "    try:\n",
        "        features = np.array([[inp.SepalLengthCm, inp.SepalWidthCm, inp.PetalLengthCm, inp.PetalWidthCm]])\n",
        "        pred = model.predict(features)[0]\n",
        "        proba = model.predict_proba(features).max()\n",
        "        return {\"prediction\": pred, \"confidence\": float(proba)}\n",
        "    except Exception as e:\n",
        "        raise HTTPException(status_code=400, detail=str(e))\n"
      ],
      "metadata": {
        "id": "9qfBLMDzDm5u"
      },
      "execution_count": 28,
      "outputs": []
    },
    {
      "cell_type": "markdown",
      "source": [],
      "metadata": {
        "id": "thR4VWBGDvTt"
      }
    }
  ]
}